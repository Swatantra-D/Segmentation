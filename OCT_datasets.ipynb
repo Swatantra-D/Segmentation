{
  "nbformat": 4,
  "nbformat_minor": 0,
  "metadata": {
    "colab": {
      "name": "OCT_datasets.ipynb",
      "provenance": [],
      "authorship_tag": "ABX9TyNI6wY351l0Md0yyC5h5W9M",
      "include_colab_link": true
    },
    "kernelspec": {
      "name": "python3",
      "display_name": "Python 3"
    },
    "language_info": {
      "name": "python"
    }
  },
  "cells": [
    {
      "cell_type": "markdown",
      "metadata": {
        "id": "view-in-github",
        "colab_type": "text"
      },
      "source": [
        "<a href=\"https://colab.research.google.com/github/Swatantra-D/Segmentation/blob/main/OCT_datasets.ipynb\" target=\"_parent\"><img src=\"https://colab.research.google.com/assets/colab-badge.svg\" alt=\"Open In Colab\"/></a>"
      ]
    },
    {
      "cell_type": "markdown",
      "source": [
        "####\n",
        "\n",
        "\n"
      ],
      "metadata": {
        "id": "9TzA31KqO-Wk"
      }
    },
    {
      "cell_type": "markdown",
      "source": [
        "### import libraries"
      ],
      "metadata": {
        "id": "4qV0ztQBQJxi"
      }
    },
    {
      "cell_type": "code",
      "source": [
        "import os\n",
        "import sys\n",
        "import cv2\n",
        "import PIL\n",
        "import skimage\n",
        "import sklearn\n",
        "import numpy as np\n",
        "import pandas as pd\n",
        "import torch\n",
        "import matplotlib.pyplot as plt\n",
        "\n",
        "from sklearn.model_selection import train_test_split\n",
        "from keras.preprocessing.image import ImageDataGenerator, array_to_img, img_to_array, load_img"
      ],
      "metadata": {
        "id": "inRYFgqrQPSk"
      },
      "execution_count": 1,
      "outputs": []
    },
    {
      "cell_type": "markdown",
      "source": [],
      "metadata": {
        "id": "XsnAFte7I7UZ"
      }
    },
    {
      "cell_type": "code",
      "source": [
        "maskpath = r\"C:\\Users\\Swata\\OneDrive\\Desktop\\OCT\\Mask\"\n",
        "imagepath = r\"C:\\Users\\Swata\\OneDrive\\Desktop\\OCT\""
      ],
      "metadata": {
        "id": "PPEGO8yOYQd7"
      },
      "execution_count": 2,
      "outputs": []
    },
    {
      "cell_type": "code",
      "source": [
        "im_width = 1712\n",
        "im_height = 512"
      ],
      "metadata": {
        "id": "QaWqLb4qVMNV"
      },
      "execution_count": 3,
      "outputs": []
    },
    {
      "cell_type": "code",
      "source": [
        "images = os.listdir(imagepath)\n",
        "masks = os.listdir(maskpath)"
      ],
      "metadata": {
        "id": "DiUxrM7LoQ3h"
      },
      "execution_count": 4,
      "outputs": []
    },
    {
      "cell_type": "code",
      "source": [
        "IMAGES = np.zeros((len(masks), im_height, im_width, 3), dtype=np.float32)\n",
        "MASKS = np.zeros((len(masks), im_height, im_width, 1), dtype=np.float32)\n",
        "\n",
        "for n,image in enumerate(masks):\n",
        "\n",
        "    img = img_to_array(load_img(r\"{}\\{}\".format(imagepath,image[:-4]+\".BMP\")))\n",
        "    img = resize(img, (512, 1712, 3), mode = 'constant', preserve_range = True)\n",
        "    # img = cv2.resize(img, (512, 512))         \n",
        "\n",
        "    mask = img_to_array(load_img(r\"{}\\{}\".format(maskpath,image)))\n",
        "    mask = resize(mask, (512, 1712, 1), preserve_range = True)    \n",
        "    # mask = cv2.resize(mask, (512, 512))   \n",
        "\n",
        "    IMAGES[n] = img/255.0\n",
        "    MASKS[n] = mask/1.0"
      ],
      "metadata": {
        "id": "eQoFAU-PoUSO"
      },
      "execution_count": null,
      "outputs": []
    },
    {
      "cell_type": "code",
      "source": [
        "IMAGES = np.zeros((len(masks), im_height, im_width, 3), dtype=np.float32)\n",
        "MASKS = np.zeros((len(masks), im_height, im_width, 1), dtype=np.float32)\n",
        "for n,image in enumerate(masks):\n",
        "\n",
        "\n",
        "    img = cv2.imread(r\"{}\\{}\".format(imagepath,image[:-4]+\".BMP\"),1)\n",
        "    img = cv2.resize(img,(512, 512))\n",
        "    img = img_to_array(img)\n",
        "    # img = resize(img, (512, 1712, 3), mode = 'constant', preserve_range = True)\n",
        "     \n",
        "\n",
        "    mask = cv2.imread(r\"{}\\{}\".format(maskpath,image),0)\n",
        "    mask = cv2.resize(mask,(512, 512))\n",
        "    mask = img_to_array(mask)  \n",
        "\n",
        "    IMAGES[n] = img/255.0\n",
        "    MASKS[n] = mask/1.0"
      ],
      "metadata": {
        "id": "jcEDX11fHBT6",
        "colab": {
          "base_uri": "https://localhost:8080/",
          "height": 263
        },
        "outputId": "b345ee4f-49ac-4a98-e506-fe8127a08d5f"
      },
      "execution_count": null,
      "outputs": [
        {
          "output_type": "error",
          "ename": "error",
          "evalue": "ignored",
          "traceback": [
            "\u001b[1;31m---------------------------------------------------------------------------\u001b[0m",
            "\u001b[1;31merror\u001b[0m                                     Traceback (most recent call last)",
            "Input \u001b[1;32mIn [7]\u001b[0m, in \u001b[0;36m<cell line: 4>\u001b[1;34m()\u001b[0m\n\u001b[0;32m      4\u001b[0m \u001b[38;5;28;01mfor\u001b[39;00m n,image \u001b[38;5;129;01min\u001b[39;00m \u001b[38;5;28menumerate\u001b[39m(masks):\n\u001b[0;32m      7\u001b[0m     img \u001b[38;5;241m=\u001b[39m cv2\u001b[38;5;241m.\u001b[39mimread(\u001b[38;5;124mr\u001b[39m\u001b[38;5;124m\"\u001b[39m\u001b[38;5;132;01m{}\u001b[39;00m\u001b[38;5;124m\\\u001b[39m\u001b[38;5;132;01m{}\u001b[39;00m\u001b[38;5;124m\"\u001b[39m\u001b[38;5;241m.\u001b[39mformat(imagepath,image[:\u001b[38;5;241m-\u001b[39m\u001b[38;5;241m4\u001b[39m]\u001b[38;5;241m+\u001b[39m\u001b[38;5;124m\"\u001b[39m\u001b[38;5;124m.BMP\u001b[39m\u001b[38;5;124m\"\u001b[39m),\u001b[38;5;241m1\u001b[39m)\n\u001b[1;32m----> 8\u001b[0m     img \u001b[38;5;241m=\u001b[39m \u001b[43mcv2\u001b[49m\u001b[38;5;241;43m.\u001b[39;49m\u001b[43mresize\u001b[49m\u001b[43m(\u001b[49m\u001b[43mimg\u001b[49m\u001b[43m,\u001b[49m\u001b[43m(\u001b[49m\u001b[38;5;241;43m512\u001b[39;49m\u001b[43m,\u001b[49m\u001b[43m \u001b[49m\u001b[38;5;241;43m512\u001b[39;49m\u001b[43m)\u001b[49m\u001b[43m)\u001b[49m\n\u001b[0;32m      9\u001b[0m     img \u001b[38;5;241m=\u001b[39m img_to_array(img)\n\u001b[0;32m     10\u001b[0m     \u001b[38;5;66;03m# img = resize(img, (512, 1712, 3), mode = 'constant', preserve_range = True)\u001b[39;00m\n",
            "\u001b[1;31merror\u001b[0m: OpenCV(4.6.0) D:\\a\\opencv-python\\opencv-python\\opencv\\modules\\imgproc\\src\\resize.cpp:4052: error: (-215:Assertion failed) !ssize.empty() in function 'cv::resize'\n"
          ]
        }
      ]
    },
    {
      "cell_type": "code",
      "source": [
        "np.unique(MASKS[0])"
      ],
      "metadata": {
        "colab": {
          "base_uri": "https://localhost:8080/"
        },
        "id": "dU3kB0InZ8Wd",
        "outputId": "154eafaa-6a10-4ebd-9647-7a633a59a0c9"
      },
      "execution_count": null,
      "outputs": [
        {
          "output_type": "execute_result",
          "data": {
            "text/plain": [
              "array([0., 1., 2., 3.], dtype=float32)"
            ]
          },
          "metadata": {},
          "execution_count": 17
        }
      ]
    },
    {
      "cell_type": "code",
      "source": [
        "IMAGES.shape"
      ],
      "metadata": {
        "colab": {
          "base_uri": "https://localhost:8080/"
        },
        "id": "1IG1dk9NFmg6",
        "outputId": "5b4b50d8-fc4c-473f-dd08-c350b51c208e"
      },
      "execution_count": null,
      "outputs": [
        {
          "output_type": "execute_result",
          "data": {
            "text/plain": [
              "(46, 512, 512, 3)"
            ]
          },
          "metadata": {},
          "execution_count": 43
        }
      ]
    },
    {
      "cell_type": "code",
      "source": [
        "def split_images(img,msk,square_arm=512):\n",
        "    \n",
        "    \"\"\" This is a simple function to split the 512 by 1712 images in three square size images\"\"\"\n",
        "\n",
        "\"\"\" The plan:\n",
        "images are kept in a 4d array - instances, rows, cols and channels, we need to split the datasets into\n",
        "three images of col 512 \n",
        "how to do it? rearrange with increasing the instance id\n"
      ],
      "metadata": {
        "colab": {
          "base_uri": "https://localhost:8080/"
        },
        "id": "HXjUsZgbtSzh",
        "outputId": "0b9a3147-50f0-41ec-c26b-318fb7cfdf38"
      },
      "execution_count": null,
      "outputs": [
        {
          "output_type": "execute_result",
          "data": {
            "text/plain": [
              "((46, 512, 1712, 3), (46, 512, 1712, 1))"
            ]
          },
          "metadata": {},
          "execution_count": 60
        }
      ]
    },
    {
      "cell_type": "code",
      "source": [
        "img = IMAGES[0:2]\n",
        "# img = img[0][:][:512*3][:]\n",
        "# np.reshape(img,(6,512,512))"
      ],
      "metadata": {
        "id": "W5Dz6T8kfCFO"
      },
      "execution_count": null,
      "outputs": []
    },
    {
      "cell_type": "code",
      "source": [
        "plt.imshow(img[0])\n",
        "img[0].shape\n",
        "# (1712 - (512 * 3)) / 2"
      ],
      "metadata": {
        "colab": {
          "base_uri": "https://localhost:8080/",
          "height": 169
        },
        "id": "zrp0lQ6WcWd2",
        "outputId": "a69180f5-a58b-4b08-ec4f-b6055b96dc6f"
      },
      "execution_count": null,
      "outputs": [
        {
          "output_type": "execute_result",
          "data": {
            "text/plain": [
              "(512, 1712, 3)"
            ]
          },
          "metadata": {},
          "execution_count": 29
        },
        {
          "output_type": "display_data",
          "data": {
            "text/plain": [
              "<Figure size 432x288 with 1 Axes>"
            ],
            "image/png": "[encoded data removed]"
          },
          "metadata": {
            "needs_background": "light"
          }
        }
      ]
    },
    {
      "cell_type": "code",
      "source": [],
      "metadata": {
        "id": "gkhE5bV8fBiH"
      },
      "execution_count": null,
      "outputs": []
    },
    {
      "cell_type": "code",
      "source": [
        "np.unique(MASKS[2])"
      ],
      "metadata": {
        "colab": {
          "base_uri": "https://localhost:8080/"
        },
        "id": "FWYo7_Q4Kj1K",
        "outputId": "b7465f64-6ee1-41cb-ffab-82bf8ce061d3"
      },
      "execution_count": null,
      "outputs": [
        {
          "output_type": "execute_result",
          "data": {
            "text/plain": [
              "array([0., 1., 2., 3.], dtype=float32)"
            ]
          },
          "metadata": {},
          "execution_count": 6
        }
      ]
    },
    {
      "cell_type": "markdown",
      "source": [
        "### Hide em\n",
        "\n"
      ],
      "metadata": {
        "id": "kLwc9ydrtwhS"
      }
    },
    {
      "cell_type": "code",
      "source": [
        "C = Image.open(r\"{}\\{}\".format(imagepath,images[0]))\n",
        "np.asarray(C).shape"
      ],
      "metadata": {
        "colab": {
          "base_uri": "https://localhost:8080/"
        },
        "id": "iVQ2tFK0jBxr",
        "outputId": "7a245236-53c7-4c1a-8d67-9caf25436666"
      },
      "execution_count": null,
      "outputs": [
        {
          "output_type": "execute_result",
          "data": {
            "text/plain": [
              "(512, 1712, 3)"
            ]
          },
          "metadata": {},
          "execution_count": 47
        }
      ]
    },
    {
      "cell_type": "code",
      "source": [
        "from torchvision import transforms"
      ],
      "metadata": {
        "id": "MDJvQQBpbga9"
      },
      "execution_count": null,
      "outputs": []
    },
    {
      "cell_type": "code",
      "source": [
        "transform = transforms.ToTensor()"
      ],
      "metadata": {
        "id": "QMZomZEOZvcE"
      },
      "execution_count": null,
      "outputs": []
    },
    {
      "cell_type": "code",
      "source": [
        "img_array = np.reshape(IMAGES, (len(IMAGES), 512, 1712, 3))\n",
        "img_array = img_array.astype('float32') / 255."
      ],
      "metadata": {
        "id": "a1FGFIYjdS-H",
        "colab": {
          "base_uri": "https://localhost:8080/",
          "height": 707
        },
        "outputId": "564001a0-dec4-424a-92fb-e6c128d14271"
      },
      "execution_count": null,
      "outputs": [
        {
          "output_type": "stream",
          "name": "stderr",
          "text": [
            "C:\\Users\\Swata\\anaconda3\\lib\\site-packages\\numpy\\core\\fromnumeric.py:43: VisibleDeprecationWarning: Creating an ndarray from ragged nested sequences (which is a list-or-tuple of lists-or-tuples-or ndarrays with different lengths or shapes) is deprecated. If you meant to do this, you must specify 'dtype=object' when creating the ndarray.\n",
            "  result = getattr(asarray(obj), method)(*args, **kwds)\n"
          ]
        },
        {
          "output_type": "error",
          "ename": "ValueError",
          "evalue": "ignored",
          "traceback": [
            "\u001b[1;31m---------------------------------------------------------------------------\u001b[0m",
            "\u001b[1;31mValueError\u001b[0m                                Traceback (most recent call last)",
            "Input \u001b[1;32mIn [28]\u001b[0m, in \u001b[0;36m<cell line: 1>\u001b[1;34m()\u001b[0m\n\u001b[1;32m----> 1\u001b[0m img_array \u001b[38;5;241m=\u001b[39m \u001b[43mnp\u001b[49m\u001b[38;5;241;43m.\u001b[39;49m\u001b[43mreshape\u001b[49m\u001b[43m(\u001b[49m\u001b[43mIMAGES\u001b[49m\u001b[43m,\u001b[49m\u001b[43m \u001b[49m\u001b[43m(\u001b[49m\u001b[38;5;28;43mlen\u001b[39;49m\u001b[43m(\u001b[49m\u001b[43mIMAGES\u001b[49m\u001b[43m)\u001b[49m\u001b[43m,\u001b[49m\u001b[43m \u001b[49m\u001b[38;5;241;43m512\u001b[39;49m\u001b[43m,\u001b[49m\u001b[43m \u001b[49m\u001b[38;5;241;43m1712\u001b[39;49m\u001b[43m,\u001b[49m\u001b[43m \u001b[49m\u001b[38;5;241;43m3\u001b[39;49m\u001b[43m)\u001b[49m\u001b[43m)\u001b[49m\n\u001b[0;32m      2\u001b[0m img_array \u001b[38;5;241m=\u001b[39m img_array\u001b[38;5;241m.\u001b[39mastype(\u001b[38;5;124m'\u001b[39m\u001b[38;5;124mfloat32\u001b[39m\u001b[38;5;124m'\u001b[39m) \u001b[38;5;241m/\u001b[39m \u001b[38;5;241m255.\u001b[39m\n",
            "File \u001b[1;32m<__array_function__ internals>:5\u001b[0m, in \u001b[0;36mreshape\u001b[1;34m(*args, **kwargs)\u001b[0m\n",
            "File \u001b[1;32m~\\anaconda3\\lib\\site-packages\\numpy\\core\\fromnumeric.py:298\u001b[0m, in \u001b[0;36mreshape\u001b[1;34m(a, newshape, order)\u001b[0m\n\u001b[0;32m    198\u001b[0m \u001b[38;5;129m@array_function_dispatch\u001b[39m(_reshape_dispatcher)\n\u001b[0;32m    199\u001b[0m \u001b[38;5;28;01mdef\u001b[39;00m \u001b[38;5;21mreshape\u001b[39m(a, newshape, order\u001b[38;5;241m=\u001b[39m\u001b[38;5;124m'\u001b[39m\u001b[38;5;124mC\u001b[39m\u001b[38;5;124m'\u001b[39m):\n\u001b[0;32m    200\u001b[0m     \u001b[38;5;124;03m\"\"\"\u001b[39;00m\n\u001b[0;32m    201\u001b[0m \u001b[38;5;124;03m    Gives a new shape to an array without changing its data.\u001b[39;00m\n\u001b[0;32m    202\u001b[0m \n\u001b[1;32m   (...)\u001b[0m\n\u001b[0;32m    296\u001b[0m \u001b[38;5;124;03m           [5, 6]])\u001b[39;00m\n\u001b[0;32m    297\u001b[0m \u001b[38;5;124;03m    \"\"\"\u001b[39;00m\n\u001b[1;32m--> 298\u001b[0m     \u001b[38;5;28;01mreturn\u001b[39;00m \u001b[43m_wrapfunc\u001b[49m\u001b[43m(\u001b[49m\u001b[43ma\u001b[49m\u001b[43m,\u001b[49m\u001b[43m \u001b[49m\u001b[38;5;124;43m'\u001b[39;49m\u001b[38;5;124;43mreshape\u001b[39;49m\u001b[38;5;124;43m'\u001b[39;49m\u001b[43m,\u001b[49m\u001b[43m \u001b[49m\u001b[43mnewshape\u001b[49m\u001b[43m,\u001b[49m\u001b[43m \u001b[49m\u001b[43morder\u001b[49m\u001b[38;5;241;43m=\u001b[39;49m\u001b[43morder\u001b[49m\u001b[43m)\u001b[49m\n",
            "File \u001b[1;32m~\\anaconda3\\lib\\site-packages\\numpy\\core\\fromnumeric.py:54\u001b[0m, in \u001b[0;36m_wrapfunc\u001b[1;34m(obj, method, *args, **kwds)\u001b[0m\n\u001b[0;32m     52\u001b[0m bound \u001b[38;5;241m=\u001b[39m \u001b[38;5;28mgetattr\u001b[39m(obj, method, \u001b[38;5;28;01mNone\u001b[39;00m)\n\u001b[0;32m     53\u001b[0m \u001b[38;5;28;01mif\u001b[39;00m bound \u001b[38;5;129;01mis\u001b[39;00m \u001b[38;5;28;01mNone\u001b[39;00m:\n\u001b[1;32m---> 54\u001b[0m     \u001b[38;5;28;01mreturn\u001b[39;00m _wrapit(obj, method, \u001b[38;5;241m*\u001b[39margs, \u001b[38;5;241m*\u001b[39m\u001b[38;5;241m*\u001b[39mkwds)\n\u001b[0;32m     56\u001b[0m \u001b[38;5;28;01mtry\u001b[39;00m:\n\u001b[0;32m     57\u001b[0m     \u001b[38;5;28;01mreturn\u001b[39;00m bound(\u001b[38;5;241m*\u001b[39margs, \u001b[38;5;241m*\u001b[39m\u001b[38;5;241m*\u001b[39mkwds)\n",
            "File \u001b[1;32m~\\anaconda3\\lib\\site-packages\\numpy\\core\\fromnumeric.py:43\u001b[0m, in \u001b[0;36m_wrapit\u001b[1;34m(obj, method, *args, **kwds)\u001b[0m\n\u001b[0;32m     41\u001b[0m \u001b[38;5;28;01mexcept\u001b[39;00m \u001b[38;5;167;01mAttributeError\u001b[39;00m:\n\u001b[0;32m     42\u001b[0m     wrap \u001b[38;5;241m=\u001b[39m \u001b[38;5;28;01mNone\u001b[39;00m\n\u001b[1;32m---> 43\u001b[0m result \u001b[38;5;241m=\u001b[39m \u001b[38;5;28mgetattr\u001b[39m(\u001b[43masarray\u001b[49m\u001b[43m(\u001b[49m\u001b[43mobj\u001b[49m\u001b[43m)\u001b[49m, method)(\u001b[38;5;241m*\u001b[39margs, \u001b[38;5;241m*\u001b[39m\u001b[38;5;241m*\u001b[39mkwds)\n\u001b[0;32m     44\u001b[0m \u001b[38;5;28;01mif\u001b[39;00m wrap:\n\u001b[0;32m     45\u001b[0m     \u001b[38;5;28;01mif\u001b[39;00m \u001b[38;5;129;01mnot\u001b[39;00m \u001b[38;5;28misinstance\u001b[39m(result, mu\u001b[38;5;241m.\u001b[39mndarray):\n",
            "\u001b[1;31mValueError\u001b[0m: could not broadcast input array from shape (512,1712,3) into shape (512,)"
          ]
        }
      ]
    },
    {
      "cell_type": "code",
      "source": [
        "IMAGES[0].shape"
      ],
      "metadata": {
        "colab": {
          "base_uri": "https://localhost:8080/"
        },
        "id": "tbvMSn4mfK5N",
        "outputId": "f59c3130-f772-4f2e-ec12-053504c7fe75"
      },
      "execution_count": null,
      "outputs": [
        {
          "output_type": "execute_result",
          "data": {
            "text/plain": [
              "(512, 1712, 3)"
            ]
          },
          "metadata": {},
          "execution_count": 27
        }
      ]
    },
    {
      "cell_type": "code",
      "source": [
        "img = cv2.resize(IMAGES[0],(1712, 512))"
      ],
      "metadata": {
        "id": "yLCDp3flgJk_"
      },
      "execution_count": null,
      "outputs": []
    },
    {
      "cell_type": "code",
      "source": [
        "img.shape"
      ],
      "metadata": {
        "colab": {
          "base_uri": "https://localhost:8080/"
        },
        "id": "3V3GvPkOhsC9",
        "outputId": "c4c9101e-82be-4a7c-ac11-bbd096c25762"
      },
      "execution_count": null,
      "outputs": [
        {
          "output_type": "execute_result",
          "data": {
            "text/plain": [
              "(512, 1712, 3)"
            ]
          },
          "metadata": {},
          "execution_count": 32
        }
      ]
    },
    {
      "cell_type": "code",
      "source": [],
      "metadata": {
        "id": "treGsHryhxoy"
      },
      "execution_count": null,
      "outputs": []
    },
    {
      "cell_type": "markdown",
      "source": [],
      "metadata": {
        "id": "nUC9gtlvt0FA"
      }
    },
    {
      "cell_type": "markdown",
      "source": [
        "### Next\n"
      ],
      "metadata": {
        "id": "7PVHXHr1t2Jg"
      }
    },
    {
      "cell_type": "code",
      "source": [
        "import segmentation_models as sm\n",
        "from segmentation_models import Unet\n",
        "from segmentation_models import get_preprocessing\n",
        "from segmentation_models.losses import bce_jaccard_loss\n",
        "from segmentation_models.metrics import iou_score"
      ],
      "metadata": {
        "id": "9yC68cCGt3XT",
        "colab": {
          "base_uri": "https://localhost:8080/"
        },
        "outputId": "da313045-3929-418d-d070-5ca73103e6de"
      },
      "execution_count": null,
      "outputs": [
        {
          "output_type": "stream",
          "name": "stdout",
          "text": [
            "Segmentation Models: using `keras` framework.\n"
          ]
        }
      ]
    },
    {
      "cell_type": "code",
      "source": [
        "sm.set_framework('tf.keras')\n",
        "\n",
        "sm.framework()"
      ],
      "metadata": {
        "colab": {
          "base_uri": "https://localhost:8080/"
        },
        "id": "Y4fIBRBZJAmL",
        "outputId": "9bb3045c-1d5c-413b-803d-76343863220b"
      },
      "execution_count": null,
      "outputs": [
        {
          "output_type": "execute_result",
          "data": {
            "text/plain": [
              "'tf.keras'"
            ]
          },
          "metadata": {},
          "execution_count": 7
        }
      ]
    },
    {
      "cell_type": "code",
      "source": [
        "X_train, X_valid, y_train, y_valid = train_test_split(IMAGES, MASKS, test_size=0.33, random_state=2022)"
      ],
      "metadata": {
        "id": "hn3v-kuvC0UC"
      },
      "execution_count": null,
      "outputs": []
    },
    {
      "cell_type": "code",
      "source": [
        "BACKBONE = 'resnet34'\n",
        "preprocess_input = get_preprocessing(BACKBONE)\n",
        "X_train = preprocess_input(X_train)\n",
        "X_valid = preprocess_input(X_valid)\n"
      ],
      "metadata": {
        "id": "0nJypLxWuLTI"
      },
      "execution_count": null,
      "outputs": []
    },
    {
      "cell_type": "code",
      "source": [
        "model = Unet(BACKBONE, encoder_weights=\"imagenet\")\n",
        "model.compile('Adam', loss=\"categorical_crossentropy\", metrics=[iou_score])"
      ],
      "metadata": {
        "id": "xYAaNFenB3xw"
      },
      "execution_count": null,
      "outputs": []
    },
    {
      "cell_type": "code",
      "source": [
        "model.fit(\n",
        "    x=X_train,\n",
        "    y=y_train,\n",
        "    batch_size=1,\n",
        "    epochs=25,\n",
        "    validation_data=(X_valid, y_valid),\n",
        ")"
      ],
      "metadata": {
        "colab": {
          "base_uri": "https://localhost:8080/"
        },
        "id": "_FERNjB2D12a",
        "outputId": "40f7ddbd-9d50-4b86-d8b5-0d2a0173c31e"
      },
      "execution_count": null,
      "outputs": [
        {
          "output_type": "stream",
          "name": "stdout",
          "text": [
            "Epoch 1/25\n",
            "30/30 [==============================] - 78s 2s/step - loss: 0.0000e+00 - iou_score: 7.7175e-11 - val_loss: 0.0000e+00 - val_iou_score: 5.6132e-10\n",
            "Epoch 2/25\n",
            "30/30 [==============================] - 52s 2s/step - loss: 0.0000e+00 - iou_score: 1.8006e-10 - val_loss: 0.0000e+00 - val_iou_score: 9.1044e-11\n",
            "Epoch 3/25\n",
            "30/30 [==============================] - 52s 2s/step - loss: 0.0000e+00 - iou_score: 4.4487e-10 - val_loss: 0.0000e+00 - val_iou_score: 1.6850e-10\n",
            "Epoch 4/25\n",
            "30/30 [==============================] - 49s 2s/step - loss: 0.0000e+00 - iou_score: 1.1646e-09 - val_loss: 0.0000e+00 - val_iou_score: 3.7315e-10\n",
            "Epoch 5/25\n",
            "30/30 [==============================] - 49s 2s/step - loss: 0.0000e+00 - iou_score: 4.0148e-09 - val_loss: 0.0000e+00 - val_iou_score: 0.1921\n",
            "Epoch 6/25\n",
            "30/30 [==============================] - 49s 2s/step - loss: 0.0000e+00 - iou_score: 1.6822e-08 - val_loss: 0.0000e+00 - val_iou_score: 6.0163e-09\n",
            "Epoch 7/25\n",
            "30/30 [==============================] - 49s 2s/step - loss: 0.0000e+00 - iou_score: 8.1355e-08 - val_loss: 0.0000e+00 - val_iou_score: 2.7460e-04\n",
            "Epoch 8/25\n",
            "30/30 [==============================] - 49s 2s/step - loss: 0.0000e+00 - iou_score: 3.9209e-07 - val_loss: 0.0000e+00 - val_iou_score: 1.6409e-07\n",
            "Epoch 9/25\n",
            "30/30 [==============================] - 49s 2s/step - loss: 0.0000e+00 - iou_score: 4.1756e-07 - val_loss: 0.0000e+00 - val_iou_score: 7.4723e-08\n",
            "Epoch 10/25\n",
            "30/30 [==============================] - 49s 2s/step - loss: 0.0000e+00 - iou_score: 9.0603e-07 - val_loss: 0.0000e+00 - val_iou_score: 3.3779e-06\n",
            "Epoch 11/25\n",
            "30/30 [==============================] - 49s 2s/step - loss: 0.0000e+00 - iou_score: 2.3819e-06 - val_loss: 0.0000e+00 - val_iou_score: 9.2851e-05\n",
            "Epoch 12/25\n",
            "30/30 [==============================] - 48s 2s/step - loss: 0.0000e+00 - iou_score: 1.1287e-05 - val_loss: 0.0000e+00 - val_iou_score: 1.7598e-04\n",
            "Epoch 13/25\n",
            "30/30 [==============================] - 49s 2s/step - loss: 0.0000e+00 - iou_score: 1.5640e-05 - val_loss: 0.0000e+00 - val_iou_score: 8.6651e-04\n",
            "Epoch 14/25\n",
            "30/30 [==============================] - 50s 2s/step - loss: 0.0000e+00 - iou_score: 5.2209e-05 - val_loss: 0.0000e+00 - val_iou_score: 0.0014\n",
            "Epoch 15/25\n",
            "30/30 [==============================] - 49s 2s/step - loss: 0.0000e+00 - iou_score: 2.4397e-04 - val_loss: 0.0000e+00 - val_iou_score: 0.0043\n",
            "Epoch 16/25\n",
            "30/30 [==============================] - 49s 2s/step - loss: 0.0000e+00 - iou_score: 0.0013 - val_loss: 0.0000e+00 - val_iou_score: 0.0243\n",
            "Epoch 17/25\n",
            "30/30 [==============================] - 49s 2s/step - loss: 0.0000e+00 - iou_score: 0.0166 - val_loss: 0.0000e+00 - val_iou_score: 0.0145\n",
            "Epoch 18/25\n",
            "30/30 [==============================] - 49s 2s/step - loss: 0.0000e+00 - iou_score: 0.0456 - val_loss: 0.0000e+00 - val_iou_score: 0.3252\n",
            "Epoch 19/25\n",
            "30/30 [==============================] - 49s 2s/step - loss: 0.0000e+00 - iou_score: 0.2922 - val_loss: 0.0000e+00 - val_iou_score: 0.7182\n",
            "Epoch 20/25\n",
            "30/30 [==============================] - 49s 2s/step - loss: 0.0000e+00 - iou_score: 0.6797 - val_loss: 0.0000e+00 - val_iou_score: 0.9626\n",
            "Epoch 21/25\n",
            "30/30 [==============================] - 49s 2s/step - loss: 0.0000e+00 - iou_score: 0.9150 - val_loss: 0.0000e+00 - val_iou_score: 0.9910\n",
            "Epoch 22/25\n",
            "30/30 [==============================] - 49s 2s/step - loss: 0.0000e+00 - iou_score: 0.9709 - val_loss: 0.0000e+00 - val_iou_score: 0.9931\n",
            "Epoch 23/25\n",
            "30/30 [==============================] - 49s 2s/step - loss: 0.0000e+00 - iou_score: 0.9902 - val_loss: 0.0000e+00 - val_iou_score: 0.9899\n",
            "Epoch 24/25\n",
            "30/30 [==============================] - 48s 2s/step - loss: 0.0000e+00 - iou_score: 0.9954 - val_loss: 0.0000e+00 - val_iou_score: 0.5717\n",
            "Epoch 25/25\n",
            "30/30 [==============================] - 49s 2s/step - loss: 0.0000e+00 - iou_score: 0.9993 - val_loss: 0.0000e+00 - val_iou_score: 1.0000\n"
          ]
        },
        {
          "output_type": "execute_result",
          "data": {
            "text/plain": [
              "<keras.callbacks.History at 0x216cc7e5d00>"
            ]
          },
          "metadata": {},
          "execution_count": 11
        }
      ]
    },
    {
      "cell_type": "code",
      "source": [],
      "metadata": {
        "id": "q36KOBvjI7_m",
        "colab": {
          "base_uri": "https://localhost:8080/"
        },
        "outputId": "d3b5839f-c9db-4431-e9ca-3947b7616000"
      },
      "execution_count": null,
      "outputs": [
        {
          "output_type": "execute_result",
          "data": {
            "text/plain": [
              "(512, 512, 3)"
            ]
          },
          "metadata": {},
          "execution_count": 53
        }
      ]
    },
    {
      "cell_type": "code",
      "source": [],
      "metadata": {
        "id": "KmDErUTONqn_"
      },
      "execution_count": null,
      "outputs": []
    },
    {
      "cell_type": "markdown",
      "source": [
        "# Freash start"
      ],
      "metadata": {
        "id": "or-ztbOjI8zy"
      }
    },
    {
      "cell_type": "code",
      "source": [
        "import os\n",
        "import sys\n",
        "import cv2"
      ],
      "metadata": {
        "id": "ujaSTWDnJV8_"
      },
      "execution_count": 5,
      "outputs": []
    },
    {
      "cell_type": "code",
      "source": [
        "image1 = os.path.join(imagepath,images[0])\n",
        "masks1 = os.path.join(maskpath,masks[0])"
      ],
      "metadata": {
        "id": "Bl_ItkB_JfIb"
      },
      "execution_count": 25,
      "outputs": []
    },
    {
      "cell_type": "code",
      "source": [
        "image1"
      ],
      "metadata": {
        "colab": {
          "base_uri": "https://localhost:8080/"
        },
        "id": "c-UFrsDIJ8mW",
        "outputId": "1c4e025d-53e9-4fbc-f44e-56a801512e08"
      },
      "execution_count": 7,
      "outputs": [
        {
          "output_type": "execute_result",
          "data": {
            "text/plain": [
              "'C:\\\\Users\\\\Swata\\\\OneDrive\\\\Desktop\\\\OCT\\\\CCF_wd0_1.BMP'"
            ]
          },
          "metadata": {},
          "execution_count": 7
        }
      ]
    },
    {
      "cell_type": "code",
      "source": [
        "image_1 = cv2.cvtColor(cv2.imread(image1),cv2.COLOR_BGR2RGB)"
      ],
      "metadata": {
        "id": "etGG85UGJ9uT"
      },
      "execution_count": 8,
      "outputs": []
    },
    {
      "cell_type": "code",
      "source": [
        "type(image_1)\n",
        "\n"
      ],
      "metadata": {
        "colab": {
          "base_uri": "https://localhost:8080/"
        },
        "id": "F4JhjAKmKZb3",
        "outputId": "ebb1f912-f042-4741-9e6e-d2831af40ecd"
      },
      "execution_count": 11,
      "outputs": [
        {
          "output_type": "execute_result",
          "data": {
            "text/plain": [
              "numpy.ndarray"
            ]
          },
          "metadata": {},
          "execution_count": 11
        }
      ]
    },
    {
      "cell_type": "code",
      "source": [
        "masks_1 = cv2.imread(masks1,-1)"
      ],
      "metadata": {
        "id": "KdBIDBBfKaLb"
      },
      "execution_count": 31,
      "outputs": []
    },
    {
      "cell_type": "code",
      "source": [
        "np.unique(masks_1)"
      ],
      "metadata": {
        "colab": {
          "base_uri": "https://localhost:8080/"
        },
        "id": "bidLOdFELxz7",
        "outputId": "4626a485-978c-426d-cd28-5bd7a3f5e509"
      },
      "execution_count": 32,
      "outputs": [
        {
          "output_type": "execute_result",
          "data": {
            "text/plain": [
              "array([0, 1, 2, 3], dtype=uint16)"
            ]
          },
          "metadata": {},
          "execution_count": 32
        }
      ]
    },
    {
      "cell_type": "code",
      "source": [],
      "metadata": {
        "id": "5_u5Xl0OMNjc"
      },
      "execution_count": null,
      "outputs": []
    }
  ]
}